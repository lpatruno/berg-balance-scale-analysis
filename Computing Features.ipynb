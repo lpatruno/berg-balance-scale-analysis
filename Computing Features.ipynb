{
 "cells": [
  {
   "cell_type": "code",
   "execution_count": 95,
   "metadata": {
    "collapsed": true
   },
   "outputs": [],
   "source": [
    "import numpy as np\n",
    "from matplotlib import pyplot as plt\n",
    "from time import time\n",
    "import pandas as pd"
   ]
  },
  {
   "cell_type": "code",
   "execution_count": 96,
   "metadata": {
    "collapsed": true
   },
   "outputs": [],
   "source": [
    "#the files are oppened and labeled as follows: user_device_sensor \n",
    "#this will not work if the files do not exist\n",
    "\n",
    "#julia data \n",
    "j_p_accel = 'data/julia_normal_accel_B_phone.txt'\n",
    "j_p_gyro = 'data/julia_normal_gyro_B_phone.txt'\n",
    "j_w_accel = 'data/julia_normal_accel_B_watch.txt'\n",
    "j_w_gyro = 'data/julia_normal_gyro_B_watch.txt'"
   ]
  },
  {
   "cell_type": "code",
   "execution_count": 97,
   "metadata": {
    "collapsed": true
   },
   "outputs": [],
   "source": [
    "#Dataframe objects are created from the opened files and labeled as follows: user_device,sensor_data \n",
    "#ts indicates timestamp, x_a  the x axis, y_a the y axis, and Z_a the z axis \n",
    "col_names = ['ts', 'x', 'y', 'z']\n",
    "\n",
    "j_pa = pd.read_csv(j_p_accel, names=col_names, index_col=0)\n",
    "j_pg = pd.read_csv(j_p_gyro, names=col_names, index_col=0)\n",
    "j_wa = pd.read_csv(j_w_accel, names=col_names, index_col=0)\n",
    "j_wg = pd.read_csv(j_w_gyro, names=col_names, index_col=0)"
   ]
  },
  {
   "cell_type": "code",
   "execution_count": 98,
   "metadata": {
    "collapsed": false
   },
   "outputs": [
    {
     "data": {
      "text/html": [
       "<div style=\"max-height:1000px;max-width:1500px;overflow:auto;\">\n",
       "<table border=\"1\" class=\"dataframe\">\n",
       "  <thead>\n",
       "    <tr style=\"text-align: right;\">\n",
       "      <th></th>\n",
       "      <th>x</th>\n",
       "      <th>y</th>\n",
       "      <th>z</th>\n",
       "    </tr>\n",
       "    <tr>\n",
       "      <th>ts</th>\n",
       "      <th></th>\n",
       "      <th></th>\n",
       "      <th></th>\n",
       "    </tr>\n",
       "  </thead>\n",
       "  <tbody>\n",
       "    <tr>\n",
       "      <th>1434047893912</th>\n",
       "      <td>4.606444</td>\n",
       "      <td>-0.024541</td>\n",
       "      <td>6.731896</td>\n",
       "    </tr>\n",
       "    <tr>\n",
       "      <th>1434047893952</th>\n",
       "      <td>8.734048</td>\n",
       "      <td>1.785476</td>\n",
       "      <td>2.513313</td>\n",
       "    </tr>\n",
       "    <tr>\n",
       "      <th>1434047893992</th>\n",
       "      <td>5.990293</td>\n",
       "      <td>0.904410</td>\n",
       "      <td>2.546832</td>\n",
       "    </tr>\n",
       "    <tr>\n",
       "      <th>1434047894034</th>\n",
       "      <td>2.226608</td>\n",
       "      <td>3.806182</td>\n",
       "      <td>10.256162</td>\n",
       "    </tr>\n",
       "    <tr>\n",
       "      <th>1434047894072</th>\n",
       "      <td>10.702082</td>\n",
       "      <td>1.723227</td>\n",
       "      <td>5.783793</td>\n",
       "    </tr>\n",
       "  </tbody>\n",
       "</table>\n",
       "</div>"
      ],
      "text/plain": [
       "                       x         y          z\n",
       "ts                                           \n",
       "1434047893912   4.606444 -0.024541   6.731896\n",
       "1434047893952   8.734048  1.785476   2.513313\n",
       "1434047893992   5.990293  0.904410   2.546832\n",
       "1434047894034   2.226608  3.806182  10.256162\n",
       "1434047894072  10.702082  1.723227   5.783793"
      ]
     },
     "execution_count": 98,
     "metadata": {},
     "output_type": "execute_result"
    }
   ],
   "source": [
    "j_pa.head()"
   ]
  },
  {
   "cell_type": "code",
   "execution_count": 99,
   "metadata": {
    "collapsed": false
   },
   "outputs": [
    {
     "data": {
      "text/html": [
       "<div style=\"max-height:1000px;max-width:1500px;overflow:auto;\">\n",
       "<table border=\"1\" class=\"dataframe\">\n",
       "  <thead>\n",
       "    <tr style=\"text-align: right;\">\n",
       "      <th></th>\n",
       "      <th>x</th>\n",
       "      <th>y</th>\n",
       "      <th>z</th>\n",
       "    </tr>\n",
       "  </thead>\n",
       "  <tbody>\n",
       "    <tr>\n",
       "      <th>count</th>\n",
       "      <td>3062.000000</td>\n",
       "      <td>3062.000000</td>\n",
       "      <td>3062.000000</td>\n",
       "    </tr>\n",
       "    <tr>\n",
       "      <th>mean</th>\n",
       "      <td>0.872869</td>\n",
       "      <td>9.586657</td>\n",
       "      <td>0.855081</td>\n",
       "    </tr>\n",
       "    <tr>\n",
       "      <th>std</th>\n",
       "      <td>0.879761</td>\n",
       "      <td>0.813154</td>\n",
       "      <td>0.860346</td>\n",
       "    </tr>\n",
       "    <tr>\n",
       "      <th>min</th>\n",
       "      <td>-4.582502</td>\n",
       "      <td>-0.852934</td>\n",
       "      <td>-18.220474</td>\n",
       "    </tr>\n",
       "    <tr>\n",
       "      <th>25%</th>\n",
       "      <td>0.727837</td>\n",
       "      <td>9.638457</td>\n",
       "      <td>0.813430</td>\n",
       "    </tr>\n",
       "    <tr>\n",
       "      <th>50%</th>\n",
       "      <td>0.770933</td>\n",
       "      <td>9.681553</td>\n",
       "      <td>0.894833</td>\n",
       "    </tr>\n",
       "    <tr>\n",
       "      <th>75%</th>\n",
       "      <td>0.828394</td>\n",
       "      <td>9.715072</td>\n",
       "      <td>0.961871</td>\n",
       "    </tr>\n",
       "    <tr>\n",
       "      <th>max</th>\n",
       "      <td>13.077129</td>\n",
       "      <td>15.825075</td>\n",
       "      <td>16.098013</td>\n",
       "    </tr>\n",
       "  </tbody>\n",
       "</table>\n",
       "</div>"
      ],
      "text/plain": [
       "                 x            y            z\n",
       "count  3062.000000  3062.000000  3062.000000\n",
       "mean      0.872869     9.586657     0.855081\n",
       "std       0.879761     0.813154     0.860346\n",
       "min      -4.582502    -0.852934   -18.220474\n",
       "25%       0.727837     9.638457     0.813430\n",
       "50%       0.770933     9.681553     0.894833\n",
       "75%       0.828394     9.715072     0.961871\n",
       "max      13.077129    15.825075    16.098013"
      ]
     },
     "execution_count": 99,
     "metadata": {},
     "output_type": "execute_result"
    }
   ],
   "source": [
    "j_pa.describe()"
   ]
  },
  {
   "cell_type": "code",
   "execution_count": 100,
   "metadata": {
    "collapsed": true
   },
   "outputs": [],
   "source": [
    "def amplitude( array ):\n",
    "    \"\"\"\n",
    "    Given a NumPy array object, calculcate the amplitude i.e. |max(c)-min(c)| for c in array\n",
    "    \"\"\"\n",
    "    return np.abs( array.ptp() )"
   ]
  },
  {
   "cell_type": "code",
   "execution_count": 101,
   "metadata": {
    "collapsed": true
   },
   "outputs": [],
   "source": [
    "def absolute_mean_difference( array ):\n",
    "    \"\"\"\n",
    "    Given a NumPy array object, calculcate the absolute mean difference i.e.\n",
    "    \n",
    "    return D_x = (sum_{i=1}^{n} |x_i - mean(x)|) / n\n",
    "    \n",
    "    \"\"\"\n",
    "    x_bar = array.mean()\n",
    "    std = np.abs( array - x_bar )\n",
    "    \n",
    "    return std.mean()"
   ]
  },
  {
   "cell_type": "code",
   "execution_count": 102,
   "metadata": {
    "collapsed": true
   },
   "outputs": [],
   "source": [
    "def acceleration_mean( array_x, array_y, array_z):\n",
    "    \"\"\"\n",
    "    Given three NumPy array objects for the x, y, and z axes, calculate the acceleation mean i.e.\n",
    "    \n",
    "    return x_acc = (sum_{i=1}^{n} sqrt(x_i^2+y_i^2+z_i^2))/ n\n",
    "    \n",
    "    \"\"\"\n",
    "    return (np.sqrt(array_x**2 + array_y**2 + array_z**2)).mean()"
   ]
  },
  {
   "cell_type": "code",
   "execution_count": 108,
   "metadata": {
    "collapsed": true
   },
   "outputs": [],
   "source": [
    "def Pearsons_coefficient_of_var(array):\n",
    "    \"\"\"\n",
    "    Given a NumPy array object, calculate Pearson's coefficient of variation i.e. sqrt(variance(x))/mean(x)\n",
    "    \"\"\"\n",
    "    return np.sqrt(array.var(ddof=0)) / array.mean()"
   ]
  },
  {
   "cell_type": "code",
   "execution_count": 109,
   "metadata": {
    "collapsed": false
   },
   "outputs": [],
   "source": [
    "features = dict()\n",
    "\n",
    "features['amplitude'] = {'x': amplitude(j_pa.x), 'y':amplitude(j_pa.y), 'z':amplitude(j_pa.z)}\n",
    "features['absolute_mean_difference'] = {'x': absolute_mean_difference(j_pa.x), 'y':absolute_mean_difference(j_pa.y), 'z':absolute_mean_difference(j_pa.z)}\n",
    "features['acceleration_mean']= acceleration_mean(j_pa.x, j_pa.y, j_pa.z) \n",
    "features['mean'] = {'x': j_pa.x.mean(), 'y':j_pa.y.mean(), 'z':j_pa.z.mean()}\n",
    "features['standard_devation']= {'x': j_pa.x.std(), 'y':j_pa.y.std(), 'z':j_pa.z.std()}\n",
    "features['variance']= {'x': j_pa.x.var(ddof=0), 'y':j_pa.y.var(ddof=0), 'z':j_pa.z.var(ddof=0)} \n",
    "features['Pearsons_coefficient_of_var']= {'x': Pearsons_coefficient_of_var(j_pa.x), 'y':Pearsons_coefficient_of_var(j_pa.y), 'z':Pearsons_coefficient_of_var(j_pa.z)}\n"
   ]
  },
  {
   "cell_type": "code",
   "execution_count": 110,
   "metadata": {
    "collapsed": false
   },
   "outputs": [
    {
     "name": "stdout",
     "output_type": "stream",
     "text": [
      "acceleration_mean : 9.76727421134\n",
      "Pearsons_coefficient_of_var : {'y': 0.084807552411498399, 'x': 1.0077318842455363, 'z': 1.0059938663696539}\n",
      "amplitude : {'y': 16.678009360000001, 'x': 17.659630999999997, 'z': 34.318487000000005}\n",
      "variance : {'y': 0.66100306733299463, 'x': 0.77372715624042376, 'z': 0.73995422691377977}\n",
      "standard_devation : {'y': 0.81315374366568205, 'x': 0.87976128901417661, 'z': 0.86034642035745468}\n",
      "absolute_mean_difference : {'y': 0.19659799325060201, 'x': 0.21369135534185077, 'z': 0.19093527686654341}\n",
      "mean : {'y': 9.586657417071196, 'x': 0.87286869958589153, 'z': 0.85508068188438924}\n"
     ]
    }
   ],
   "source": [
    "for k in features:\n",
    "    print k, ':',  features[k]"
   ]
  },
  {
   "cell_type": "code",
   "execution_count": null,
   "metadata": {
    "collapsed": true
   },
   "outputs": [],
   "source": []
  }
 ],
 "metadata": {
  "kernelspec": {
   "display_name": "Python 2",
   "language": "python",
   "name": "python2"
  },
  "language_info": {
   "codemirror_mode": {
    "name": "ipython",
    "version": 2
   },
   "file_extension": ".py",
   "mimetype": "text/x-python",
   "name": "python",
   "nbconvert_exporter": "python",
   "pygments_lexer": "ipython2",
   "version": "2.7.6"
  }
 },
 "nbformat": 4,
 "nbformat_minor": 0
}

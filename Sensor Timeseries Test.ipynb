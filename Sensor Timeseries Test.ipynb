{
 "cells": [
  {
   "cell_type": "markdown",
   "metadata": {},
   "source": [
    "This script is used to test the sampling rate of the time series sensor data sampled from Android phones and Android Wear devices.\n",
    "\n",
    "@authors {Luigi Patruno, Julia Getsos}\n",
    "@created 6/22/2015"
   ]
  },
  {
   "cell_type": "code",
   "execution_count": 9,
   "metadata": {
    "collapsed": true
   },
   "outputs": [],
   "source": [
    "import pandas as pd"
   ]
  },
  {
   "cell_type": "code",
   "execution_count": 10,
   "metadata": {
    "collapsed": true
   },
   "outputs": [],
   "source": [
    "def averageTimeDiff(data_frame):\n",
    "    \"\"\"\n",
    "    This function takes a pandas DataFrame object containing sensor data with column 'ts'\n",
    "    time in milliseconds and returns the average, maximum, minimum, and standard deviation of the \n",
    "    time difference between consecutive samples.\n",
    "    \n",
    "    Please note the timestamps must be contained in a column with label 'ts' or the function\n",
    "    will return None.\n",
    "    \n",
    "    Note also this function depends on pandas being imported into the namespace as pd.\n",
    "    \n",
    "    \"\"\"\n",
    "    \n",
    "    if 'ts' not in data_frame:\n",
    "        return None\n",
    "    else:\n",
    "        df = pd.DataFrame(data_frame['ts'])\n",
    "        df['time_diff'] = df['ts'] - df['ts'].shift(-1)\n",
    "        \n",
    "        return ( df['time_diff'].mean(), df['time_diff'].max(), df['time_diff'].min(), df['time_diff'].std() )"
   ]
  },
  {
   "cell_type": "code",
   "execution_count": 11,
   "metadata": {
    "collapsed": false
   },
   "outputs": [
    {
     "data": {
      "text/plain": [
       "(-56.848782771535582, -8.0, -84.0, 11.044516200183471)"
      ]
     },
     "execution_count": 11,
     "metadata": {},
     "output_type": "execute_result"
    }
   ],
   "source": [
    "# Testing the averageTimeDiff function\n",
    "\n",
    "filename = 'data/test_accel_B_phone.txt'\n",
    "df = pd.read_csv(filename, names=['ts', 'xa', 'ya', 'za', 'xg', 'yg', 'zg'])\n",
    "\n",
    "averageTimeDiff(df)"
   ]
  },
  {
   "cell_type": "code",
   "execution_count": null,
   "metadata": {
    "collapsed": true
   },
   "outputs": [],
   "source": []
  }
 ],
 "metadata": {
  "kernelspec": {
   "display_name": "Python 2",
   "language": "python",
   "name": "python2"
  },
  "language_info": {
   "codemirror_mode": {
    "name": "ipython",
    "version": 2
   },
   "file_extension": ".py",
   "mimetype": "text/x-python",
   "name": "python",
   "nbconvert_exporter": "python",
   "pygments_lexer": "ipython2",
   "version": "2.7.6"
  }
 },
 "nbformat": 4,
 "nbformat_minor": 0
}
